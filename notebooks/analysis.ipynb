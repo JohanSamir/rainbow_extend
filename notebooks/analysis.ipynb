{
 "cells": [
  {
   "cell_type": "code",
   "execution_count": null,
   "id": "north-knock",
   "metadata": {},
   "outputs": [],
   "source": [
    "import pandas as pd\n",
    "import numpy as np\n",
    "import matplotlib.pyplot as plt\n",
    "import seaborn as sns "
   ]
  },
  {
   "cell_type": "code",
   "execution_count": null,
   "id": "nutritional-israel",
   "metadata": {},
   "outputs": [],
   "source": [
    "def get_width_log(agent, width):\n",
    "    n = 11\n",
    "    for i in range (1,n):\n",
    "        if i == 1:\n",
    "            f = pd.read_csv(f\"{agent}/run-{width}_test1-tag-Train_AverageReturns.csv\").values\n",
    "\n",
    "        data = pd.read_csv(f\"{agent}/run-{width}_test{i}-tag-Train_AverageReturns.csv\").values\n",
    "        f = np.vstack((f, data))\n",
    "    dataDQN = pd.DataFrame(f, columns = ['wall_clock', 'iteration','train_episode_returns'])\n",
    "    dataDQN = dataDQN.drop(columns=['wall_clock'], axis=1)\n",
    "    dataDQN['width'] = width\n",
    "    return dataDQN"
   ]
  },
  {
   "cell_type": "code",
   "execution_count": null,
   "id": "sorted-machine",
   "metadata": {},
   "outputs": [],
   "source": [
    "def get_agent_log(agent):\n",
    "    df_list = []\n",
    "    for wd in [2**i for i in range(6, 11)]:\n",
    "        df_list.append(get_width_log(agent, wd))\n",
    "    return pd.concat(df_list)"
   ]
  },
  {
   "cell_type": "code",
   "execution_count": null,
   "id": "muslim-bennett",
   "metadata": {},
   "outputs": [],
   "source": [
    "data_dqn = get_agent_log(\"dqn\")\n",
    "fig, ax = plt.subplots(figsize=(16,8))\n",
    "sns.lineplot(x='iteration', y='train_episode_returns', hue='width', data=data_dqn);"
   ]
  },
  {
   "cell_type": "code",
   "execution_count": null,
   "id": "palestinian-settlement",
   "metadata": {},
   "outputs": [],
   "source": [
    "data_quantile = get_agent_log(\"quantile\")\n",
    "fig, ax = plt.subplots(figsize=(16,8))\n",
    "sns.lineplot(x='iteration', y='train_episode_returns', hue='width', data=data_quantile);"
   ]
  },
  {
   "cell_type": "code",
   "execution_count": null,
   "id": "timely-albany",
   "metadata": {},
   "outputs": [],
   "source": [
    "data_implicit = get_agent_log(\"implicit\")\n",
    "fig, ax = plt.subplots(figsize=(16,8))\n",
    "sns.lineplot(x='iteration', y='train_episode_returns', hue='width', data=data_implicit);"
   ]
  },
  {
   "cell_type": "code",
   "execution_count": null,
   "id": "reverse-broad",
   "metadata": {},
   "outputs": [],
   "source": [
    "data_rainbow = get_agent_log(\"rainbow\")\n",
    "fig, ax = plt.subplots(figsize=(16,8))\n",
    "sns.lineplot(x='iteration', y='train_episode_returns', hue='width', data=data_rainbow);"
   ]
  }
 ],
 "metadata": {
  "kernelspec": {
   "display_name": "Python 3",
   "language": "python",
   "name": "python3"
  },
  "language_info": {
   "codemirror_mode": {
    "name": "ipython",
    "version": 3
   },
   "file_extension": ".py",
   "mimetype": "text/x-python",
   "name": "python",
   "nbconvert_exporter": "python",
   "pygments_lexer": "ipython3",
   "version": "3.6.9"
  }
 },
 "nbformat": 4,
 "nbformat_minor": 5
}
